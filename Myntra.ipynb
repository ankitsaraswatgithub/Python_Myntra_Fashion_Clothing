{
 "cells": [
  {
   "cell_type": "code",
   "execution_count": 1,
   "id": "54a2bdd2-41a5-471e-831c-8c12562273f6",
   "metadata": {},
   "outputs": [
    {
     "data": {
      "text/html": [
       "<div>\n",
       "<style scoped>\n",
       "    .dataframe tbody tr th:only-of-type {\n",
       "        vertical-align: middle;\n",
       "    }\n",
       "\n",
       "    .dataframe tbody tr th {\n",
       "        vertical-align: top;\n",
       "    }\n",
       "\n",
       "    .dataframe thead th {\n",
       "        text-align: right;\n",
       "    }\n",
       "</style>\n",
       "<table border=\"1\" class=\"dataframe\">\n",
       "  <thead>\n",
       "    <tr style=\"text-align: right;\">\n",
       "      <th></th>\n",
       "      <th>ProductID</th>\n",
       "      <th>ProductName</th>\n",
       "      <th>ProductBrand</th>\n",
       "    </tr>\n",
       "  </thead>\n",
       "  <tbody>\n",
       "    <tr>\n",
       "      <th>0</th>\n",
       "      <td>10017413</td>\n",
       "      <td>DKNY Unisex Black &amp; Grey Printed Medium Trolle...</td>\n",
       "      <td>DKNY</td>\n",
       "    </tr>\n",
       "    <tr>\n",
       "      <th>1</th>\n",
       "      <td>10016283</td>\n",
       "      <td>EthnoVogue Women Beige &amp; Grey Made to Measure ...</td>\n",
       "      <td>EthnoVogue</td>\n",
       "    </tr>\n",
       "    <tr>\n",
       "      <th>2</th>\n",
       "      <td>10009781</td>\n",
       "      <td>SPYKAR Women Pink Alexa Super Skinny Fit High-...</td>\n",
       "      <td>SPYKAR</td>\n",
       "    </tr>\n",
       "    <tr>\n",
       "      <th>3</th>\n",
       "      <td>10015921</td>\n",
       "      <td>Raymond Men Blue Self-Design Single-Breasted B...</td>\n",
       "      <td>Raymond</td>\n",
       "    </tr>\n",
       "    <tr>\n",
       "      <th>4</th>\n",
       "      <td>10017833</td>\n",
       "      <td>Parx Men Brown &amp; Off-White Slim Fit Printed Ca...</td>\n",
       "      <td>Parx</td>\n",
       "    </tr>\n",
       "    <tr>\n",
       "      <th>...</th>\n",
       "      <td>...</td>\n",
       "      <td>...</td>\n",
       "      <td>...</td>\n",
       "    </tr>\n",
       "    <tr>\n",
       "      <th>12486</th>\n",
       "      <td>10262843</td>\n",
       "      <td>Pepe Jeans Men Black Hammock Slim Fit Low-Rise...</td>\n",
       "      <td>Pepe Jeans</td>\n",
       "    </tr>\n",
       "    <tr>\n",
       "      <th>12487</th>\n",
       "      <td>10261721</td>\n",
       "      <td>Mochi Women Gold-Toned Solid Heels</td>\n",
       "      <td>Mochi</td>\n",
       "    </tr>\n",
       "    <tr>\n",
       "      <th>12488</th>\n",
       "      <td>10261607</td>\n",
       "      <td>612 league Girls Navy Blue &amp; White Printed Reg...</td>\n",
       "      <td>612 league</td>\n",
       "    </tr>\n",
       "    <tr>\n",
       "      <th>12489</th>\n",
       "      <td>10266621</td>\n",
       "      <td>Bvlgari Men Aqva Pour Homme Marine Eau de Toil...</td>\n",
       "      <td>Bvlgari</td>\n",
       "    </tr>\n",
       "    <tr>\n",
       "      <th>12490</th>\n",
       "      <td>10265199</td>\n",
       "      <td>Pepe Jeans Men Black &amp; Grey Striped Polo Colla...</td>\n",
       "      <td>Pepe Jeans</td>\n",
       "    </tr>\n",
       "  </tbody>\n",
       "</table>\n",
       "<p>12491 rows × 3 columns</p>\n",
       "</div>"
      ],
      "text/plain": [
       "       ProductID                                        ProductName  \\\n",
       "0       10017413  DKNY Unisex Black & Grey Printed Medium Trolle...   \n",
       "1       10016283  EthnoVogue Women Beige & Grey Made to Measure ...   \n",
       "2       10009781  SPYKAR Women Pink Alexa Super Skinny Fit High-...   \n",
       "3       10015921  Raymond Men Blue Self-Design Single-Breasted B...   \n",
       "4       10017833  Parx Men Brown & Off-White Slim Fit Printed Ca...   \n",
       "...          ...                                                ...   \n",
       "12486   10262843  Pepe Jeans Men Black Hammock Slim Fit Low-Rise...   \n",
       "12487   10261721                 Mochi Women Gold-Toned Solid Heels   \n",
       "12488   10261607  612 league Girls Navy Blue & White Printed Reg...   \n",
       "12489   10266621  Bvlgari Men Aqva Pour Homme Marine Eau de Toil...   \n",
       "12490   10265199  Pepe Jeans Men Black & Grey Striped Polo Colla...   \n",
       "\n",
       "      ProductBrand  \n",
       "0             DKNY  \n",
       "1       EthnoVogue  \n",
       "2           SPYKAR  \n",
       "3          Raymond  \n",
       "4             Parx  \n",
       "...            ...  \n",
       "12486   Pepe Jeans  \n",
       "12487        Mochi  \n",
       "12488   612 league  \n",
       "12489      Bvlgari  \n",
       "12490   Pepe Jeans  \n",
       "\n",
       "[12491 rows x 3 columns]"
      ]
     },
     "execution_count": 1,
     "metadata": {},
     "output_type": "execute_result"
    }
   ],
   "source": [
    "import pandas as pd\n",
    "df = pd.DataFrame()\n",
    "data = pd.read_csv(\"product details.csv\")\n",
    "data"
   ]
  },
  {
   "cell_type": "code",
   "execution_count": 2,
   "id": "68221193-f443-4ebe-88f6-0598e3da1b27",
   "metadata": {},
   "outputs": [
    {
     "data": {
      "text/html": [
       "<div>\n",
       "<style scoped>\n",
       "    .dataframe tbody tr th:only-of-type {\n",
       "        vertical-align: middle;\n",
       "    }\n",
       "\n",
       "    .dataframe tbody tr th {\n",
       "        vertical-align: top;\n",
       "    }\n",
       "\n",
       "    .dataframe thead th {\n",
       "        text-align: right;\n",
       "    }\n",
       "</style>\n",
       "<table border=\"1\" class=\"dataframe\">\n",
       "  <thead>\n",
       "    <tr style=\"text-align: right;\">\n",
       "      <th></th>\n",
       "      <th>Gender</th>\n",
       "      <th>Price (INR)</th>\n",
       "      <th>NumImages</th>\n",
       "      <th>ID</th>\n",
       "      <th>Description</th>\n",
       "      <th>PrimaryColor</th>\n",
       "    </tr>\n",
       "  </thead>\n",
       "  <tbody>\n",
       "    <tr>\n",
       "      <th>0</th>\n",
       "      <td>Women</td>\n",
       "      <td>593</td>\n",
       "      <td>5</td>\n",
       "      <td>10182131</td>\n",
       "      <td>Off-White printed woven A-line  top, has a rou...</td>\n",
       "      <td>White</td>\n",
       "    </tr>\n",
       "    <tr>\n",
       "      <th>1</th>\n",
       "      <td>Men</td>\n",
       "      <td>6396</td>\n",
       "      <td>5</td>\n",
       "      <td>10052169</td>\n",
       "      <td>Display: AnalogueMovement: QuartzPower source:...</td>\n",
       "      <td>Black</td>\n",
       "    </tr>\n",
       "    <tr>\n",
       "      <th>2</th>\n",
       "      <td>Women</td>\n",
       "      <td>599</td>\n",
       "      <td>5</td>\n",
       "      <td>10168643</td>\n",
       "      <td>Blue printed knitted regular  top, has a high ...</td>\n",
       "      <td>Blue</td>\n",
       "    </tr>\n",
       "    <tr>\n",
       "      <th>3</th>\n",
       "      <td>Men</td>\n",
       "      <td>1034</td>\n",
       "      <td>5</td>\n",
       "      <td>10155427</td>\n",
       "      <td>Grey and Purple checked smart casual shirt, ha...</td>\n",
       "      <td>Grey</td>\n",
       "    </tr>\n",
       "    <tr>\n",
       "      <th>4</th>\n",
       "      <td>Men</td>\n",
       "      <td>477</td>\n",
       "      <td>3</td>\n",
       "      <td>10191059</td>\n",
       "      <td>Beige and Brown striped beltReversible: NoStre...</td>\n",
       "      <td>Brown</td>\n",
       "    </tr>\n",
       "    <tr>\n",
       "      <th>...</th>\n",
       "      <td>...</td>\n",
       "      <td>...</td>\n",
       "      <td>...</td>\n",
       "      <td>...</td>\n",
       "      <td>...</td>\n",
       "      <td>...</td>\n",
       "    </tr>\n",
       "    <tr>\n",
       "      <th>12486</th>\n",
       "      <td>Women</td>\n",
       "      <td>6375</td>\n",
       "      <td>5</td>\n",
       "      <td>10211803</td>\n",
       "      <td>A pair of black pointed toe heeled boots, has ...</td>\n",
       "      <td>Black</td>\n",
       "    </tr>\n",
       "    <tr>\n",
       "      <th>12487</th>\n",
       "      <td>Boys</td>\n",
       "      <td>559</td>\n",
       "      <td>7</td>\n",
       "      <td>10138361</td>\n",
       "      <td>Blue faded casual shirt, has a hood, long slee...</td>\n",
       "      <td>Blue</td>\n",
       "    </tr>\n",
       "    <tr>\n",
       "      <th>12488</th>\n",
       "      <td>Men</td>\n",
       "      <td>1399</td>\n",
       "      <td>5</td>\n",
       "      <td>10201271</td>\n",
       "      <td>A pair of brown comfort sandalsLeather upper w...</td>\n",
       "      <td>Brown</td>\n",
       "    </tr>\n",
       "    <tr>\n",
       "      <th>12489</th>\n",
       "      <td>Women</td>\n",
       "      <td>976</td>\n",
       "      <td>5</td>\n",
       "      <td>10246229</td>\n",
       "      <td>A pair of black solid peep toes, has regular s...</td>\n",
       "      <td>Black</td>\n",
       "    </tr>\n",
       "    <tr>\n",
       "      <th>12490</th>\n",
       "      <td>Women</td>\n",
       "      <td>1299</td>\n",
       "      <td>7</td>\n",
       "      <td>10270963</td>\n",
       "      <td>Navy Blue dark wash 5-pocket mid-rise cropped ...</td>\n",
       "      <td>Navy</td>\n",
       "    </tr>\n",
       "  </tbody>\n",
       "</table>\n",
       "<p>12491 rows × 6 columns</p>\n",
       "</div>"
      ],
      "text/plain": [
       "      Gender  Price (INR)  NumImages        ID  \\\n",
       "0      Women          593          5  10182131   \n",
       "1        Men         6396          5  10052169   \n",
       "2      Women          599          5  10168643   \n",
       "3        Men         1034          5  10155427   \n",
       "4        Men          477          3  10191059   \n",
       "...      ...          ...        ...       ...   \n",
       "12486  Women         6375          5  10211803   \n",
       "12487   Boys          559          7  10138361   \n",
       "12488    Men         1399          5  10201271   \n",
       "12489  Women          976          5  10246229   \n",
       "12490  Women         1299          7  10270963   \n",
       "\n",
       "                                             Description PrimaryColor  \n",
       "0      Off-White printed woven A-line  top, has a rou...        White  \n",
       "1      Display: AnalogueMovement: QuartzPower source:...        Black  \n",
       "2      Blue printed knitted regular  top, has a high ...         Blue  \n",
       "3      Grey and Purple checked smart casual shirt, ha...         Grey  \n",
       "4      Beige and Brown striped beltReversible: NoStre...        Brown  \n",
       "...                                                  ...          ...  \n",
       "12486  A pair of black pointed toe heeled boots, has ...        Black  \n",
       "12487  Blue faded casual shirt, has a hood, long slee...         Blue  \n",
       "12488  A pair of brown comfort sandalsLeather upper w...        Brown  \n",
       "12489  A pair of black solid peep toes, has regular s...        Black  \n",
       "12490  Navy Blue dark wash 5-pocket mid-rise cropped ...         Navy  \n",
       "\n",
       "[12491 rows x 6 columns]"
      ]
     },
     "execution_count": 2,
     "metadata": {},
     "output_type": "execute_result"
    }
   ],
   "source": [
    "data1 = pd.read_csv(\"products catalog.csv\")\n",
    "data1"
   ]
  },
  {
   "cell_type": "code",
   "execution_count": 3,
   "id": "28f7fd5a-91b2-4e97-add3-c4a75efbda5b",
   "metadata": {},
   "outputs": [],
   "source": [
    "import numpy as np\n",
    "import seaborn as sns\n",
    "import matplotlib.pyplot as plt"
   ]
  },
  {
   "cell_type": "code",
   "execution_count": 4,
   "id": "465c5032-009b-49cf-84c0-a6cff7fb819d",
   "metadata": {},
   "outputs": [
    {
     "data": {
      "text/html": [
       "<div>\n",
       "<style scoped>\n",
       "    .dataframe tbody tr th:only-of-type {\n",
       "        vertical-align: middle;\n",
       "    }\n",
       "\n",
       "    .dataframe tbody tr th {\n",
       "        vertical-align: top;\n",
       "    }\n",
       "\n",
       "    .dataframe thead th {\n",
       "        text-align: right;\n",
       "    }\n",
       "</style>\n",
       "<table border=\"1\" class=\"dataframe\">\n",
       "  <thead>\n",
       "    <tr style=\"text-align: right;\">\n",
       "      <th></th>\n",
       "      <th>ProductID</th>\n",
       "      <th>ProductName</th>\n",
       "      <th>ProductBrand</th>\n",
       "    </tr>\n",
       "  </thead>\n",
       "  <tbody>\n",
       "    <tr>\n",
       "      <th>0</th>\n",
       "      <td>10017413</td>\n",
       "      <td>DKNY Unisex Black &amp; Grey Printed Medium Trolle...</td>\n",
       "      <td>DKNY</td>\n",
       "    </tr>\n",
       "    <tr>\n",
       "      <th>1</th>\n",
       "      <td>10016283</td>\n",
       "      <td>EthnoVogue Women Beige &amp; Grey Made to Measure ...</td>\n",
       "      <td>EthnoVogue</td>\n",
       "    </tr>\n",
       "    <tr>\n",
       "      <th>2</th>\n",
       "      <td>10009781</td>\n",
       "      <td>SPYKAR Women Pink Alexa Super Skinny Fit High-...</td>\n",
       "      <td>SPYKAR</td>\n",
       "    </tr>\n",
       "    <tr>\n",
       "      <th>3</th>\n",
       "      <td>10015921</td>\n",
       "      <td>Raymond Men Blue Self-Design Single-Breasted B...</td>\n",
       "      <td>Raymond</td>\n",
       "    </tr>\n",
       "    <tr>\n",
       "      <th>4</th>\n",
       "      <td>10017833</td>\n",
       "      <td>Parx Men Brown &amp; Off-White Slim Fit Printed Ca...</td>\n",
       "      <td>Parx</td>\n",
       "    </tr>\n",
       "  </tbody>\n",
       "</table>\n",
       "</div>"
      ],
      "text/plain": [
       "   ProductID                                        ProductName ProductBrand\n",
       "0   10017413  DKNY Unisex Black & Grey Printed Medium Trolle...         DKNY\n",
       "1   10016283  EthnoVogue Women Beige & Grey Made to Measure ...   EthnoVogue\n",
       "2   10009781  SPYKAR Women Pink Alexa Super Skinny Fit High-...       SPYKAR\n",
       "3   10015921  Raymond Men Blue Self-Design Single-Breasted B...      Raymond\n",
       "4   10017833  Parx Men Brown & Off-White Slim Fit Printed Ca...         Parx"
      ]
     },
     "execution_count": 4,
     "metadata": {},
     "output_type": "execute_result"
    }
   ],
   "source": [
    "data.head()"
   ]
  },
  {
   "cell_type": "code",
   "execution_count": 5,
   "id": "5f081222-acbf-4548-9de5-17d05a7423d6",
   "metadata": {},
   "outputs": [
    {
     "data": {
      "text/html": [
       "<div>\n",
       "<style scoped>\n",
       "    .dataframe tbody tr th:only-of-type {\n",
       "        vertical-align: middle;\n",
       "    }\n",
       "\n",
       "    .dataframe tbody tr th {\n",
       "        vertical-align: top;\n",
       "    }\n",
       "\n",
       "    .dataframe thead th {\n",
       "        text-align: right;\n",
       "    }\n",
       "</style>\n",
       "<table border=\"1\" class=\"dataframe\">\n",
       "  <thead>\n",
       "    <tr style=\"text-align: right;\">\n",
       "      <th></th>\n",
       "      <th>Gender</th>\n",
       "      <th>Price (INR)</th>\n",
       "      <th>NumImages</th>\n",
       "      <th>ID</th>\n",
       "      <th>Description</th>\n",
       "      <th>PrimaryColor</th>\n",
       "    </tr>\n",
       "  </thead>\n",
       "  <tbody>\n",
       "    <tr>\n",
       "      <th>0</th>\n",
       "      <td>Women</td>\n",
       "      <td>593</td>\n",
       "      <td>5</td>\n",
       "      <td>10182131</td>\n",
       "      <td>Off-White printed woven A-line  top, has a rou...</td>\n",
       "      <td>White</td>\n",
       "    </tr>\n",
       "    <tr>\n",
       "      <th>1</th>\n",
       "      <td>Men</td>\n",
       "      <td>6396</td>\n",
       "      <td>5</td>\n",
       "      <td>10052169</td>\n",
       "      <td>Display: AnalogueMovement: QuartzPower source:...</td>\n",
       "      <td>Black</td>\n",
       "    </tr>\n",
       "    <tr>\n",
       "      <th>2</th>\n",
       "      <td>Women</td>\n",
       "      <td>599</td>\n",
       "      <td>5</td>\n",
       "      <td>10168643</td>\n",
       "      <td>Blue printed knitted regular  top, has a high ...</td>\n",
       "      <td>Blue</td>\n",
       "    </tr>\n",
       "    <tr>\n",
       "      <th>3</th>\n",
       "      <td>Men</td>\n",
       "      <td>1034</td>\n",
       "      <td>5</td>\n",
       "      <td>10155427</td>\n",
       "      <td>Grey and Purple checked smart casual shirt, ha...</td>\n",
       "      <td>Grey</td>\n",
       "    </tr>\n",
       "    <tr>\n",
       "      <th>4</th>\n",
       "      <td>Men</td>\n",
       "      <td>477</td>\n",
       "      <td>3</td>\n",
       "      <td>10191059</td>\n",
       "      <td>Beige and Brown striped beltReversible: NoStre...</td>\n",
       "      <td>Brown</td>\n",
       "    </tr>\n",
       "  </tbody>\n",
       "</table>\n",
       "</div>"
      ],
      "text/plain": [
       "  Gender  Price (INR)  NumImages        ID  \\\n",
       "0  Women          593          5  10182131   \n",
       "1    Men         6396          5  10052169   \n",
       "2  Women          599          5  10168643   \n",
       "3    Men         1034          5  10155427   \n",
       "4    Men          477          3  10191059   \n",
       "\n",
       "                                         Description PrimaryColor  \n",
       "0  Off-White printed woven A-line  top, has a rou...        White  \n",
       "1  Display: AnalogueMovement: QuartzPower source:...        Black  \n",
       "2  Blue printed knitted regular  top, has a high ...         Blue  \n",
       "3  Grey and Purple checked smart casual shirt, ha...         Grey  \n",
       "4  Beige and Brown striped beltReversible: NoStre...        Brown  "
      ]
     },
     "execution_count": 5,
     "metadata": {},
     "output_type": "execute_result"
    }
   ],
   "source": [
    "data1.head()"
   ]
  },
  {
   "cell_type": "code",
   "execution_count": 6,
   "id": "c6c64b1e-23e6-49b6-8292-21d374d08011",
   "metadata": {},
   "outputs": [
    {
     "data": {
      "text/html": [
       "<div>\n",
       "<style scoped>\n",
       "    .dataframe tbody tr th:only-of-type {\n",
       "        vertical-align: middle;\n",
       "    }\n",
       "\n",
       "    .dataframe tbody tr th {\n",
       "        vertical-align: top;\n",
       "    }\n",
       "\n",
       "    .dataframe thead th {\n",
       "        text-align: right;\n",
       "    }\n",
       "</style>\n",
       "<table border=\"1\" class=\"dataframe\">\n",
       "  <thead>\n",
       "    <tr style=\"text-align: right;\">\n",
       "      <th></th>\n",
       "      <th>ProductID</th>\n",
       "      <th>ProductName</th>\n",
       "      <th>ProductBrand</th>\n",
       "    </tr>\n",
       "  </thead>\n",
       "  <tbody>\n",
       "    <tr>\n",
       "      <th>count</th>\n",
       "      <td>1.249100e+04</td>\n",
       "      <td>12491</td>\n",
       "      <td>12491</td>\n",
       "    </tr>\n",
       "    <tr>\n",
       "      <th>unique</th>\n",
       "      <td>NaN</td>\n",
       "      <td>10761</td>\n",
       "      <td>677</td>\n",
       "    </tr>\n",
       "    <tr>\n",
       "      <th>top</th>\n",
       "      <td>NaN</td>\n",
       "      <td>Parx Men Blue Slim Fit Checked Casual Shirt</td>\n",
       "      <td>Indian Terrain</td>\n",
       "    </tr>\n",
       "    <tr>\n",
       "      <th>freq</th>\n",
       "      <td>NaN</td>\n",
       "      <td>16</td>\n",
       "      <td>971</td>\n",
       "    </tr>\n",
       "    <tr>\n",
       "      <th>mean</th>\n",
       "      <td>9.917160e+06</td>\n",
       "      <td>NaN</td>\n",
       "      <td>NaN</td>\n",
       "    </tr>\n",
       "    <tr>\n",
       "      <th>std</th>\n",
       "      <td>1.438006e+06</td>\n",
       "      <td>NaN</td>\n",
       "      <td>NaN</td>\n",
       "    </tr>\n",
       "    <tr>\n",
       "      <th>min</th>\n",
       "      <td>1.012060e+05</td>\n",
       "      <td>NaN</td>\n",
       "      <td>NaN</td>\n",
       "    </tr>\n",
       "    <tr>\n",
       "      <th>25%</th>\n",
       "      <td>1.006215e+07</td>\n",
       "      <td>NaN</td>\n",
       "      <td>NaN</td>\n",
       "    </tr>\n",
       "    <tr>\n",
       "      <th>50%</th>\n",
       "      <td>1.015463e+07</td>\n",
       "      <td>NaN</td>\n",
       "      <td>NaN</td>\n",
       "    </tr>\n",
       "    <tr>\n",
       "      <th>75%</th>\n",
       "      <td>1.021565e+07</td>\n",
       "      <td>NaN</td>\n",
       "      <td>NaN</td>\n",
       "    </tr>\n",
       "    <tr>\n",
       "      <th>max</th>\n",
       "      <td>1.027514e+07</td>\n",
       "      <td>NaN</td>\n",
       "      <td>NaN</td>\n",
       "    </tr>\n",
       "  </tbody>\n",
       "</table>\n",
       "</div>"
      ],
      "text/plain": [
       "           ProductID                                  ProductName  \\\n",
       "count   1.249100e+04                                        12491   \n",
       "unique           NaN                                        10761   \n",
       "top              NaN  Parx Men Blue Slim Fit Checked Casual Shirt   \n",
       "freq             NaN                                           16   \n",
       "mean    9.917160e+06                                          NaN   \n",
       "std     1.438006e+06                                          NaN   \n",
       "min     1.012060e+05                                          NaN   \n",
       "25%     1.006215e+07                                          NaN   \n",
       "50%     1.015463e+07                                          NaN   \n",
       "75%     1.021565e+07                                          NaN   \n",
       "max     1.027514e+07                                          NaN   \n",
       "\n",
       "          ProductBrand  \n",
       "count            12491  \n",
       "unique             677  \n",
       "top     Indian Terrain  \n",
       "freq               971  \n",
       "mean               NaN  \n",
       "std                NaN  \n",
       "min                NaN  \n",
       "25%                NaN  \n",
       "50%                NaN  \n",
       "75%                NaN  \n",
       "max                NaN  "
      ]
     },
     "execution_count": 6,
     "metadata": {},
     "output_type": "execute_result"
    }
   ],
   "source": [
    "data.describe(include = 'all')"
   ]
  },
  {
   "cell_type": "code",
   "execution_count": 7,
   "id": "d38d2142-cd33-40f2-b405-e7486661432f",
   "metadata": {},
   "outputs": [
    {
     "data": {
      "text/plain": [
       "ProductID       0\n",
       "ProductName     0\n",
       "ProductBrand    0\n",
       "dtype: int64"
      ]
     },
     "execution_count": 7,
     "metadata": {},
     "output_type": "execute_result"
    }
   ],
   "source": [
    "data.isnull().sum()"
   ]
  },
  {
   "cell_type": "code",
   "execution_count": 8,
   "id": "520a0fdb-b292-489e-950b-a23d404e9a7a",
   "metadata": {},
   "outputs": [
    {
     "data": {
      "text/html": [
       "<div>\n",
       "<style scoped>\n",
       "    .dataframe tbody tr th:only-of-type {\n",
       "        vertical-align: middle;\n",
       "    }\n",
       "\n",
       "    .dataframe tbody tr th {\n",
       "        vertical-align: top;\n",
       "    }\n",
       "\n",
       "    .dataframe thead th {\n",
       "        text-align: right;\n",
       "    }\n",
       "</style>\n",
       "<table border=\"1\" class=\"dataframe\">\n",
       "  <thead>\n",
       "    <tr style=\"text-align: right;\">\n",
       "      <th></th>\n",
       "      <th>Gender</th>\n",
       "      <th>Price (INR)</th>\n",
       "      <th>NumImages</th>\n",
       "      <th>ID</th>\n",
       "      <th>Description</th>\n",
       "      <th>PrimaryColor</th>\n",
       "    </tr>\n",
       "  </thead>\n",
       "  <tbody>\n",
       "    <tr>\n",
       "      <th>count</th>\n",
       "      <td>12491</td>\n",
       "      <td>12491.000000</td>\n",
       "      <td>12491.000000</td>\n",
       "      <td>1.249100e+04</td>\n",
       "      <td>12491</td>\n",
       "      <td>11597</td>\n",
       "    </tr>\n",
       "    <tr>\n",
       "      <th>unique</th>\n",
       "      <td>6</td>\n",
       "      <td>NaN</td>\n",
       "      <td>NaN</td>\n",
       "      <td>NaN</td>\n",
       "      <td>10435</td>\n",
       "      <td>27</td>\n",
       "    </tr>\n",
       "    <tr>\n",
       "      <th>top</th>\n",
       "      <td>Women</td>\n",
       "      <td>NaN</td>\n",
       "      <td>NaN</td>\n",
       "      <td>NaN</td>\n",
       "      <td>Blue medium wash 5-pocket mid-rise jeans, clea...</td>\n",
       "      <td>Blue</td>\n",
       "    </tr>\n",
       "    <tr>\n",
       "      <th>freq</th>\n",
       "      <td>5126</td>\n",
       "      <td>NaN</td>\n",
       "      <td>NaN</td>\n",
       "      <td>NaN</td>\n",
       "      <td>54</td>\n",
       "      <td>3443</td>\n",
       "    </tr>\n",
       "    <tr>\n",
       "      <th>mean</th>\n",
       "      <td>NaN</td>\n",
       "      <td>1452.660956</td>\n",
       "      <td>4.913698</td>\n",
       "      <td>9.917160e+06</td>\n",
       "      <td>NaN</td>\n",
       "      <td>NaN</td>\n",
       "    </tr>\n",
       "    <tr>\n",
       "      <th>std</th>\n",
       "      <td>NaN</td>\n",
       "      <td>2118.503976</td>\n",
       "      <td>1.092333</td>\n",
       "      <td>1.438006e+06</td>\n",
       "      <td>NaN</td>\n",
       "      <td>NaN</td>\n",
       "    </tr>\n",
       "    <tr>\n",
       "      <th>min</th>\n",
       "      <td>NaN</td>\n",
       "      <td>90.000000</td>\n",
       "      <td>1.000000</td>\n",
       "      <td>1.012060e+05</td>\n",
       "      <td>NaN</td>\n",
       "      <td>NaN</td>\n",
       "    </tr>\n",
       "    <tr>\n",
       "      <th>25%</th>\n",
       "      <td>NaN</td>\n",
       "      <td>649.000000</td>\n",
       "      <td>5.000000</td>\n",
       "      <td>1.006215e+07</td>\n",
       "      <td>NaN</td>\n",
       "      <td>NaN</td>\n",
       "    </tr>\n",
       "    <tr>\n",
       "      <th>50%</th>\n",
       "      <td>NaN</td>\n",
       "      <td>920.000000</td>\n",
       "      <td>5.000000</td>\n",
       "      <td>1.015463e+07</td>\n",
       "      <td>NaN</td>\n",
       "      <td>NaN</td>\n",
       "    </tr>\n",
       "    <tr>\n",
       "      <th>75%</th>\n",
       "      <td>NaN</td>\n",
       "      <td>1499.000000</td>\n",
       "      <td>5.000000</td>\n",
       "      <td>1.021565e+07</td>\n",
       "      <td>NaN</td>\n",
       "      <td>NaN</td>\n",
       "    </tr>\n",
       "    <tr>\n",
       "      <th>max</th>\n",
       "      <td>NaN</td>\n",
       "      <td>63090.000000</td>\n",
       "      <td>10.000000</td>\n",
       "      <td>1.027514e+07</td>\n",
       "      <td>NaN</td>\n",
       "      <td>NaN</td>\n",
       "    </tr>\n",
       "  </tbody>\n",
       "</table>\n",
       "</div>"
      ],
      "text/plain": [
       "       Gender   Price (INR)     NumImages            ID  \\\n",
       "count   12491  12491.000000  12491.000000  1.249100e+04   \n",
       "unique      6           NaN           NaN           NaN   \n",
       "top     Women           NaN           NaN           NaN   \n",
       "freq     5126           NaN           NaN           NaN   \n",
       "mean      NaN   1452.660956      4.913698  9.917160e+06   \n",
       "std       NaN   2118.503976      1.092333  1.438006e+06   \n",
       "min       NaN     90.000000      1.000000  1.012060e+05   \n",
       "25%       NaN    649.000000      5.000000  1.006215e+07   \n",
       "50%       NaN    920.000000      5.000000  1.015463e+07   \n",
       "75%       NaN   1499.000000      5.000000  1.021565e+07   \n",
       "max       NaN  63090.000000     10.000000  1.027514e+07   \n",
       "\n",
       "                                              Description PrimaryColor  \n",
       "count                                               12491        11597  \n",
       "unique                                              10435           27  \n",
       "top     Blue medium wash 5-pocket mid-rise jeans, clea...         Blue  \n",
       "freq                                                   54         3443  \n",
       "mean                                                  NaN          NaN  \n",
       "std                                                   NaN          NaN  \n",
       "min                                                   NaN          NaN  \n",
       "25%                                                   NaN          NaN  \n",
       "50%                                                   NaN          NaN  \n",
       "75%                                                   NaN          NaN  \n",
       "max                                                   NaN          NaN  "
      ]
     },
     "execution_count": 8,
     "metadata": {},
     "output_type": "execute_result"
    }
   ],
   "source": [
    "data1.describe(include = 'all')"
   ]
  },
  {
   "cell_type": "code",
   "execution_count": 9,
   "id": "e03f3df5-5794-4caa-90d1-e08a4eb89f61",
   "metadata": {},
   "outputs": [
    {
     "data": {
      "text/plain": [
       "Gender            0\n",
       "Price (INR)       0\n",
       "NumImages         0\n",
       "ID                0\n",
       "Description       0\n",
       "PrimaryColor    894\n",
       "dtype: int64"
      ]
     },
     "execution_count": 9,
     "metadata": {},
     "output_type": "execute_result"
    }
   ],
   "source": [
    "data1.isnull().sum()"
   ]
  },
  {
   "cell_type": "code",
   "execution_count": 10,
   "id": "7c91cd71-3f11-40c3-9e31-9c11bc56b9c5",
   "metadata": {},
   "outputs": [
    {
     "data": {
      "text/plain": [
       "Women          5126\n",
       "Men            4591\n",
       "Unisex         1188\n",
       "Boys           1100\n",
       "Girls           440\n",
       "Unisex Kids      46\n",
       "Name: Gender, dtype: int64"
      ]
     },
     "execution_count": 10,
     "metadata": {},
     "output_type": "execute_result"
    }
   ],
   "source": [
    "data1.Gender.value_counts()"
   ]
  },
  {
   "cell_type": "markdown",
   "id": "d18f0412-ce69-485d-91f5-0f68d3e9ac4d",
   "metadata": {},
   "source": [
    "Variable Description\n",
    "1. Product Brand - \n",
    "2. Product Colour -\n",
    "3. "
   ]
  },
  {
   "cell_type": "code",
   "execution_count": 14,
   "id": "20e87adb-09ea-4010-b71c-5669e59e5c97",
   "metadata": {},
   "outputs": [
    {
     "data": {
      "text/plain": [
       "(12491, 9)"
      ]
     },
     "execution_count": 14,
     "metadata": {},
     "output_type": "execute_result"
    }
   ],
   "source": [
    "df = pd.merge(data,data1,left_on = \"ProductID\", right_on = 'ID', how = 'left')\n",
    "df.shape"
   ]
  },
  {
   "cell_type": "code",
   "execution_count": 15,
   "id": "543d3b20-fda3-4e4d-9849-784b89d231c0",
   "metadata": {},
   "outputs": [],
   "source": [
    "df.drop_duplicates(inplace = True)"
   ]
  },
  {
   "cell_type": "code",
   "execution_count": 16,
   "id": "2618eba7-bdcc-4afd-be7d-b7849dfb2e9f",
   "metadata": {},
   "outputs": [
    {
     "data": {
      "text/plain": [
       "(12491, 9)"
      ]
     },
     "execution_count": 16,
     "metadata": {},
     "output_type": "execute_result"
    }
   ],
   "source": [
    "df.shape"
   ]
  },
  {
   "cell_type": "code",
   "execution_count": 17,
   "id": "4fdbfb37-bac8-4e93-9320-9e2cb1b80765",
   "metadata": {},
   "outputs": [
    {
     "data": {
      "text/plain": [
       "ProductID         0\n",
       "ProductName       0\n",
       "ProductBrand      0\n",
       "Gender            0\n",
       "Price (INR)       0\n",
       "NumImages         0\n",
       "ID                0\n",
       "Description       0\n",
       "PrimaryColor    894\n",
       "dtype: int64"
      ]
     },
     "execution_count": 17,
     "metadata": {},
     "output_type": "execute_result"
    }
   ],
   "source": [
    "df.isnull().sum()"
   ]
  },
  {
   "cell_type": "code",
   "execution_count": 19,
   "id": "c7114d37-9e4d-4307-85b0-52c71888f1f3",
   "metadata": {},
   "outputs": [],
   "source": [
    "df.drop(columns = 'ID', inplace = True)"
   ]
  },
  {
   "cell_type": "code",
   "execution_count": 20,
   "id": "3d1574c1-5966-4e80-952c-6f9674ca2acc",
   "metadata": {},
   "outputs": [
    {
     "data": {
      "text/plain": [
       "(12491, 8)"
      ]
     },
     "execution_count": 20,
     "metadata": {},
     "output_type": "execute_result"
    }
   ],
   "source": [
    "df.shape"
   ]
  },
  {
   "cell_type": "code",
   "execution_count": 21,
   "id": "dbd719f8-5d34-4297-b863-6eddb9fcf8a3",
   "metadata": {},
   "outputs": [
    {
     "data": {
      "text/html": [
       "<div>\n",
       "<style scoped>\n",
       "    .dataframe tbody tr th:only-of-type {\n",
       "        vertical-align: middle;\n",
       "    }\n",
       "\n",
       "    .dataframe tbody tr th {\n",
       "        vertical-align: top;\n",
       "    }\n",
       "\n",
       "    .dataframe thead th {\n",
       "        text-align: right;\n",
       "    }\n",
       "</style>\n",
       "<table border=\"1\" class=\"dataframe\">\n",
       "  <thead>\n",
       "    <tr style=\"text-align: right;\">\n",
       "      <th></th>\n",
       "      <th>ProductID</th>\n",
       "      <th>ProductName</th>\n",
       "      <th>ProductBrand</th>\n",
       "      <th>Gender</th>\n",
       "      <th>Price (INR)</th>\n",
       "      <th>NumImages</th>\n",
       "      <th>Description</th>\n",
       "      <th>PrimaryColor</th>\n",
       "    </tr>\n",
       "  </thead>\n",
       "  <tbody>\n",
       "    <tr>\n",
       "      <th>0</th>\n",
       "      <td>10017413</td>\n",
       "      <td>DKNY Unisex Black &amp; Grey Printed Medium Trolle...</td>\n",
       "      <td>DKNY</td>\n",
       "      <td>Unisex</td>\n",
       "      <td>11745</td>\n",
       "      <td>7</td>\n",
       "      <td>Black and grey printed medium trolley bag, sec...</td>\n",
       "      <td>Black</td>\n",
       "    </tr>\n",
       "    <tr>\n",
       "      <th>1</th>\n",
       "      <td>10016283</td>\n",
       "      <td>EthnoVogue Women Beige &amp; Grey Made to Measure ...</td>\n",
       "      <td>EthnoVogue</td>\n",
       "      <td>Women</td>\n",
       "      <td>5810</td>\n",
       "      <td>7</td>\n",
       "      <td>Beige &amp; Grey made to measure kurta with churid...</td>\n",
       "      <td>Beige</td>\n",
       "    </tr>\n",
       "    <tr>\n",
       "      <th>2</th>\n",
       "      <td>10009781</td>\n",
       "      <td>SPYKAR Women Pink Alexa Super Skinny Fit High-...</td>\n",
       "      <td>SPYKAR</td>\n",
       "      <td>Women</td>\n",
       "      <td>899</td>\n",
       "      <td>7</td>\n",
       "      <td>Pink coloured wash 5-pocket high-rise cropped ...</td>\n",
       "      <td>Pink</td>\n",
       "    </tr>\n",
       "    <tr>\n",
       "      <th>3</th>\n",
       "      <td>10015921</td>\n",
       "      <td>Raymond Men Blue Self-Design Single-Breasted B...</td>\n",
       "      <td>Raymond</td>\n",
       "      <td>Men</td>\n",
       "      <td>5599</td>\n",
       "      <td>5</td>\n",
       "      <td>Blue self-design bandhgala suitBlue self-desig...</td>\n",
       "      <td>Blue</td>\n",
       "    </tr>\n",
       "    <tr>\n",
       "      <th>4</th>\n",
       "      <td>10017833</td>\n",
       "      <td>Parx Men Brown &amp; Off-White Slim Fit Printed Ca...</td>\n",
       "      <td>Parx</td>\n",
       "      <td>Men</td>\n",
       "      <td>759</td>\n",
       "      <td>5</td>\n",
       "      <td>Brown and off-white printed casual shirt, has ...</td>\n",
       "      <td>White</td>\n",
       "    </tr>\n",
       "  </tbody>\n",
       "</table>\n",
       "</div>"
      ],
      "text/plain": [
       "   ProductID                                        ProductName ProductBrand  \\\n",
       "0   10017413  DKNY Unisex Black & Grey Printed Medium Trolle...         DKNY   \n",
       "1   10016283  EthnoVogue Women Beige & Grey Made to Measure ...   EthnoVogue   \n",
       "2   10009781  SPYKAR Women Pink Alexa Super Skinny Fit High-...       SPYKAR   \n",
       "3   10015921  Raymond Men Blue Self-Design Single-Breasted B...      Raymond   \n",
       "4   10017833  Parx Men Brown & Off-White Slim Fit Printed Ca...         Parx   \n",
       "\n",
       "   Gender  Price (INR)  NumImages  \\\n",
       "0  Unisex        11745          7   \n",
       "1   Women         5810          7   \n",
       "2   Women          899          7   \n",
       "3     Men         5599          5   \n",
       "4     Men          759          5   \n",
       "\n",
       "                                         Description PrimaryColor  \n",
       "0  Black and grey printed medium trolley bag, sec...        Black  \n",
       "1  Beige & Grey made to measure kurta with churid...        Beige  \n",
       "2  Pink coloured wash 5-pocket high-rise cropped ...         Pink  \n",
       "3  Blue self-design bandhgala suitBlue self-desig...         Blue  \n",
       "4  Brown and off-white printed casual shirt, has ...        White  "
      ]
     },
     "execution_count": 21,
     "metadata": {},
     "output_type": "execute_result"
    }
   ],
   "source": [
    "df.head()"
   ]
  },
  {
   "cell_type": "code",
   "execution_count": 22,
   "id": "07717582-64da-4129-b7e2-ba82be65f9a6",
   "metadata": {},
   "outputs": [
    {
     "data": {
      "text/plain": [
       "' Black'"
      ]
     },
     "execution_count": 22,
     "metadata": {},
     "output_type": "execute_result"
    }
   ],
   "source": [
    "df.loc[0,'PrimaryColor']"
   ]
  },
  {
   "cell_type": "code",
   "execution_count": 24,
   "id": "461867fd-793c-4d51-bb12-552261d48c4b",
   "metadata": {},
   "outputs": [],
   "source": [
    "x = df.PrimaryColor.str.strip()\n",
    "df.drop(columns = 'PrimaryColor', inplace = True)\n",
    "df['PrimaryColor'] = x"
   ]
  },
  {
   "cell_type": "code",
   "execution_count": 25,
   "id": "0f4f459d-271a-48c2-95c8-95d5264e0783",
   "metadata": {},
   "outputs": [
    {
     "data": {
      "text/plain": [
       "'Black'"
      ]
     },
     "execution_count": 25,
     "metadata": {},
     "output_type": "execute_result"
    }
   ],
   "source": [
    "df.loc[0,'PrimaryColor']"
   ]
  },
  {
   "cell_type": "code",
   "execution_count": 27,
   "id": "e8f3a884-9a01-4b1d-9993-7a9ce9f9b947",
   "metadata": {},
   "outputs": [
    {
     "data": {
      "text/plain": [
       "ProductID         0\n",
       "ProductName       0\n",
       "ProductBrand      0\n",
       "Gender            0\n",
       "Price (INR)       0\n",
       "NumImages         0\n",
       "Description       0\n",
       "PrimaryColor    894\n",
       "dtype: int64"
      ]
     },
     "execution_count": 27,
     "metadata": {},
     "output_type": "execute_result"
    }
   ],
   "source": [
    "df.isnull().sum()"
   ]
  },
  {
   "cell_type": "code",
   "execution_count": 28,
   "id": "1abbbb09-b093-480e-a064-f4a00ada2e15",
   "metadata": {},
   "outputs": [],
   "source": [
    "df.PrimaryColor.fillna('Others', inplace = True)"
   ]
  },
  {
   "cell_type": "code",
   "execution_count": 29,
   "id": "77be3b8e-b1dc-4c32-bf87-4d2144193a74",
   "metadata": {},
   "outputs": [
    {
     "data": {
      "text/plain": [
       "ProductID       0\n",
       "ProductName     0\n",
       "ProductBrand    0\n",
       "Gender          0\n",
       "Price (INR)     0\n",
       "NumImages       0\n",
       "Description     0\n",
       "PrimaryColor    0\n",
       "dtype: int64"
      ]
     },
     "execution_count": 29,
     "metadata": {},
     "output_type": "execute_result"
    }
   ],
   "source": [
    "df.isnull().sum()"
   ]
  },
  {
   "cell_type": "code",
   "execution_count": 31,
   "id": "97546a8a-ec2d-4ee8-82b8-270b7e685d22",
   "metadata": {},
   "outputs": [],
   "source": [
    "df.rename(columns = {'Price (INR)' : 'Price'}, inplace = True)"
   ]
  },
  {
   "cell_type": "code",
   "execution_count": 32,
   "id": "23af74a3-bdb9-4a61-9525-7d1c51858532",
   "metadata": {},
   "outputs": [
    {
     "data": {
      "text/plain": [
       "Women          5126\n",
       "Men            4591\n",
       "Unisex         1188\n",
       "Boys           1100\n",
       "Girls           440\n",
       "Unisex Kids      46\n",
       "Name: Gender, dtype: int64"
      ]
     },
     "execution_count": 32,
     "metadata": {},
     "output_type": "execute_result"
    }
   ],
   "source": [
    "df.Gender.value_counts()"
   ]
  },
  {
   "cell_type": "markdown",
   "id": "bd49fa2f-5f3e-4744-99e2-65bcd3b06681",
   "metadata": {},
   "source": [
    "new column\n",
    "3 - Women (Women + Girls)\n",
    "2 - Men (Men + Boys)\n",
    "1 - Unisex (Unisex kids + Unisex)\n",
    "\n",
    "col\n",
    "1 - Adult (Women + Men + Unisex)\n",
    "2 - Kids (Boys + Girls + Unisex Kids)"
   ]
  },
  {
   "cell_type": "code",
   "execution_count": 33,
   "id": "f5dc0d20-f281-4721-8d5b-412949288a34",
   "metadata": {},
   "outputs": [],
   "source": [
    "x = []\n",
    "\n",
    "for i in df.Gender:\n",
    "    if ((i == 'Women') | (i == 'Girls')):\n",
    "        x.append('Women')\n",
    "    elif ((i == 'Men') | (i == 'Boys')):\n",
    "        x.append('Men')\n",
    "    else:\n",
    "        x.append('Unisex')\n",
    "        \n",
    "df['gender_comb'] = x"
   ]
  },
  {
   "cell_type": "code",
   "execution_count": 34,
   "id": "065b9424-51b7-4e6e-a8ce-70d9856f1788",
   "metadata": {},
   "outputs": [
    {
     "data": {
      "text/plain": [
       "Men       5691\n",
       "Women     5566\n",
       "Unisex    1234\n",
       "Name: gender_comb, dtype: int64"
      ]
     },
     "execution_count": 34,
     "metadata": {},
     "output_type": "execute_result"
    }
   ],
   "source": [
    "df.gender_comb.value_counts()"
   ]
  },
  {
   "cell_type": "code",
   "execution_count": 36,
   "id": "afa391c9-83a9-490f-925c-9c249594b9ce",
   "metadata": {},
   "outputs": [
    {
     "data": {
      "text/plain": [
       "gender_comb\n",
       "Men       1434.021613\n",
       "Unisex    2120.924635\n",
       "Women     1323.562702\n",
       "Name: Price, dtype: float64"
      ]
     },
     "execution_count": 36,
     "metadata": {},
     "output_type": "execute_result"
    }
   ],
   "source": [
    "df.groupby('gender_comb')['Price'].mean()"
   ]
  },
  {
   "cell_type": "code",
   "execution_count": 37,
   "id": "ff8af6bd-0f56-41f5-a997-6c60ea634f9c",
   "metadata": {},
   "outputs": [],
   "source": [
    "y = []\n",
    "\n",
    "for i in df.Gender:\n",
    "    if ((i == 'Men') | (i == 'Women') | (i == 'Unisex')):\n",
    "        y.append('Adult')\n",
    "    else:\n",
    "        y.append('Kids')\n",
    "        \n",
    "df['gender_comb2'] = y"
   ]
  },
  {
   "cell_type": "code",
   "execution_count": 38,
   "id": "c48d4d25-8843-4ccc-aa04-ea03733a57e0",
   "metadata": {},
   "outputs": [
    {
     "data": {
      "text/plain": [
       "Adult    10905\n",
       "Kids      1586\n",
       "Name: gender_comb2, dtype: int64"
      ]
     },
     "execution_count": 38,
     "metadata": {},
     "output_type": "execute_result"
    }
   ],
   "source": [
    "df.gender_comb2.value_counts()"
   ]
  },
  {
   "cell_type": "code",
   "execution_count": 39,
   "id": "2c6ee737-7ea9-49d2-adf2-6e8d40b61707",
   "metadata": {},
   "outputs": [
    {
     "data": {
      "text/plain": [
       "gender_comb2\n",
       "Adult    1535.649794\n",
       "Kids      882.047289\n",
       "Name: Price, dtype: float64"
      ]
     },
     "execution_count": 39,
     "metadata": {},
     "output_type": "execute_result"
    }
   ],
   "source": [
    "df.groupby('gender_comb2')['Price'].mean()"
   ]
  },
  {
   "cell_type": "code",
   "execution_count": 40,
   "id": "f1037355-4959-4b42-92fd-d9e6cebfee75",
   "metadata": {},
   "outputs": [],
   "source": [
    "# Bivariate Analysis"
   ]
  },
  {
   "cell_type": "markdown",
   "id": "0cb9e6e2-44a6-4f4d-b8fc-248fecf91bb2",
   "metadata": {},
   "source": [
    "1. Which is most used color for different gender?"
   ]
  },
  {
   "cell_type": "code",
   "execution_count": 45,
   "id": "f403a6a7-f173-4780-bafc-cc58ab571462",
   "metadata": {},
   "outputs": [],
   "source": [
    "x = pd.DataFrame(pd.crosstab(df.PrimaryColor,df.gender_comb))\n",
    "x.reset_index(inplace = True)"
   ]
  },
  {
   "cell_type": "code",
   "execution_count": 46,
   "id": "338a50c7-f0fc-4b59-acf8-7ed9827b983f",
   "metadata": {},
   "outputs": [
    {
     "data": {
      "text/html": [
       "<div>\n",
       "<style scoped>\n",
       "    .dataframe tbody tr th:only-of-type {\n",
       "        vertical-align: middle;\n",
       "    }\n",
       "\n",
       "    .dataframe tbody tr th {\n",
       "        vertical-align: top;\n",
       "    }\n",
       "\n",
       "    .dataframe thead th {\n",
       "        text-align: right;\n",
       "    }\n",
       "</style>\n",
       "<table border=\"1\" class=\"dataframe\">\n",
       "  <thead>\n",
       "    <tr style=\"text-align: right;\">\n",
       "      <th>gender_comb</th>\n",
       "      <th>PrimaryColor</th>\n",
       "      <th>Men</th>\n",
       "      <th>Unisex</th>\n",
       "      <th>Women</th>\n",
       "    </tr>\n",
       "  </thead>\n",
       "  <tbody>\n",
       "    <tr>\n",
       "      <th>0</th>\n",
       "      <td>Beige</td>\n",
       "      <td>82</td>\n",
       "      <td>18</td>\n",
       "      <td>136</td>\n",
       "    </tr>\n",
       "    <tr>\n",
       "      <th>1</th>\n",
       "      <td>Black</td>\n",
       "      <td>794</td>\n",
       "      <td>163</td>\n",
       "      <td>683</td>\n",
       "    </tr>\n",
       "    <tr>\n",
       "      <th>2</th>\n",
       "      <td>Blue</td>\n",
       "      <td>2028</td>\n",
       "      <td>211</td>\n",
       "      <td>1204</td>\n",
       "    </tr>\n",
       "    <tr>\n",
       "      <th>3</th>\n",
       "      <td>Bronze</td>\n",
       "      <td>1</td>\n",
       "      <td>0</td>\n",
       "      <td>2</td>\n",
       "    </tr>\n",
       "    <tr>\n",
       "      <th>4</th>\n",
       "      <td>Brown</td>\n",
       "      <td>254</td>\n",
       "      <td>66</td>\n",
       "      <td>153</td>\n",
       "    </tr>\n",
       "    <tr>\n",
       "      <th>5</th>\n",
       "      <td>Burgundy</td>\n",
       "      <td>21</td>\n",
       "      <td>0</td>\n",
       "      <td>43</td>\n",
       "    </tr>\n",
       "    <tr>\n",
       "      <th>6</th>\n",
       "      <td>Charcoal</td>\n",
       "      <td>7</td>\n",
       "      <td>0</td>\n",
       "      <td>3</td>\n",
       "    </tr>\n",
       "    <tr>\n",
       "      <th>7</th>\n",
       "      <td>Gold</td>\n",
       "      <td>20</td>\n",
       "      <td>18</td>\n",
       "      <td>198</td>\n",
       "    </tr>\n",
       "    <tr>\n",
       "      <th>8</th>\n",
       "      <td>Green</td>\n",
       "      <td>382</td>\n",
       "      <td>120</td>\n",
       "      <td>406</td>\n",
       "    </tr>\n",
       "    <tr>\n",
       "      <th>9</th>\n",
       "      <td>Grey</td>\n",
       "      <td>426</td>\n",
       "      <td>59</td>\n",
       "      <td>199</td>\n",
       "    </tr>\n",
       "    <tr>\n",
       "      <th>10</th>\n",
       "      <td>Khaki</td>\n",
       "      <td>54</td>\n",
       "      <td>0</td>\n",
       "      <td>2</td>\n",
       "    </tr>\n",
       "    <tr>\n",
       "      <th>11</th>\n",
       "      <td>Lavender</td>\n",
       "      <td>8</td>\n",
       "      <td>3</td>\n",
       "      <td>8</td>\n",
       "    </tr>\n",
       "    <tr>\n",
       "      <th>12</th>\n",
       "      <td>Magenta</td>\n",
       "      <td>2</td>\n",
       "      <td>0</td>\n",
       "      <td>11</td>\n",
       "    </tr>\n",
       "    <tr>\n",
       "      <th>13</th>\n",
       "      <td>Maroon</td>\n",
       "      <td>77</td>\n",
       "      <td>13</td>\n",
       "      <td>97</td>\n",
       "    </tr>\n",
       "    <tr>\n",
       "      <th>14</th>\n",
       "      <td>Matte</td>\n",
       "      <td>0</td>\n",
       "      <td>1</td>\n",
       "      <td>16</td>\n",
       "    </tr>\n",
       "    <tr>\n",
       "      <th>15</th>\n",
       "      <td>Mustard</td>\n",
       "      <td>4</td>\n",
       "      <td>1</td>\n",
       "      <td>10</td>\n",
       "    </tr>\n",
       "    <tr>\n",
       "      <th>16</th>\n",
       "      <td>Navy</td>\n",
       "      <td>31</td>\n",
       "      <td>0</td>\n",
       "      <td>23</td>\n",
       "    </tr>\n",
       "    <tr>\n",
       "      <th>17</th>\n",
       "      <td>Orange</td>\n",
       "      <td>54</td>\n",
       "      <td>23</td>\n",
       "      <td>53</td>\n",
       "    </tr>\n",
       "    <tr>\n",
       "      <th>18</th>\n",
       "      <td>Others</td>\n",
       "      <td>316</td>\n",
       "      <td>132</td>\n",
       "      <td>446</td>\n",
       "    </tr>\n",
       "    <tr>\n",
       "      <th>19</th>\n",
       "      <td>Peach</td>\n",
       "      <td>0</td>\n",
       "      <td>0</td>\n",
       "      <td>2</td>\n",
       "    </tr>\n",
       "    <tr>\n",
       "      <th>20</th>\n",
       "      <td>Pink</td>\n",
       "      <td>61</td>\n",
       "      <td>32</td>\n",
       "      <td>298</td>\n",
       "    </tr>\n",
       "    <tr>\n",
       "      <th>21</th>\n",
       "      <td>Platinum</td>\n",
       "      <td>2</td>\n",
       "      <td>0</td>\n",
       "      <td>1</td>\n",
       "    </tr>\n",
       "    <tr>\n",
       "      <th>22</th>\n",
       "      <td>Purple</td>\n",
       "      <td>25</td>\n",
       "      <td>14</td>\n",
       "      <td>26</td>\n",
       "    </tr>\n",
       "    <tr>\n",
       "      <th>23</th>\n",
       "      <td>Red</td>\n",
       "      <td>473</td>\n",
       "      <td>179</td>\n",
       "      <td>891</td>\n",
       "    </tr>\n",
       "    <tr>\n",
       "      <th>24</th>\n",
       "      <td>Rose</td>\n",
       "      <td>0</td>\n",
       "      <td>1</td>\n",
       "      <td>7</td>\n",
       "    </tr>\n",
       "    <tr>\n",
       "      <th>25</th>\n",
       "      <td>Silver</td>\n",
       "      <td>22</td>\n",
       "      <td>4</td>\n",
       "      <td>85</td>\n",
       "    </tr>\n",
       "    <tr>\n",
       "      <th>26</th>\n",
       "      <td>White</td>\n",
       "      <td>391</td>\n",
       "      <td>150</td>\n",
       "      <td>339</td>\n",
       "    </tr>\n",
       "    <tr>\n",
       "      <th>27</th>\n",
       "      <td>Yellow</td>\n",
       "      <td>156</td>\n",
       "      <td>26</td>\n",
       "      <td>224</td>\n",
       "    </tr>\n",
       "  </tbody>\n",
       "</table>\n",
       "</div>"
      ],
      "text/plain": [
       "gender_comb PrimaryColor   Men  Unisex  Women\n",
       "0                  Beige    82      18    136\n",
       "1                  Black   794     163    683\n",
       "2                   Blue  2028     211   1204\n",
       "3                 Bronze     1       0      2\n",
       "4                  Brown   254      66    153\n",
       "5               Burgundy    21       0     43\n",
       "6               Charcoal     7       0      3\n",
       "7                   Gold    20      18    198\n",
       "8                  Green   382     120    406\n",
       "9                   Grey   426      59    199\n",
       "10                 Khaki    54       0      2\n",
       "11              Lavender     8       3      8\n",
       "12               Magenta     2       0     11\n",
       "13                Maroon    77      13     97\n",
       "14                 Matte     0       1     16\n",
       "15               Mustard     4       1     10\n",
       "16                  Navy    31       0     23\n",
       "17                Orange    54      23     53\n",
       "18                Others   316     132    446\n",
       "19                 Peach     0       0      2\n",
       "20                  Pink    61      32    298\n",
       "21              Platinum     2       0      1\n",
       "22                Purple    25      14     26\n",
       "23                   Red   473     179    891\n",
       "24                  Rose     0       1      7\n",
       "25                Silver    22       4     85\n",
       "26                 White   391     150    339\n",
       "27                Yellow   156      26    224"
      ]
     },
     "execution_count": 46,
     "metadata": {},
     "output_type": "execute_result"
    }
   ],
   "source": [
    "x"
   ]
  },
  {
   "cell_type": "code",
   "execution_count": 48,
   "id": "b05314ff-66a7-4c0a-be48-ff73506ea21a",
   "metadata": {},
   "outputs": [
    {
     "data": {
      "text/plain": [
       "2028"
      ]
     },
     "execution_count": 48,
     "metadata": {},
     "output_type": "execute_result"
    }
   ],
   "source": [
    "x.Men.max()"
   ]
  },
  {
   "cell_type": "code",
   "execution_count": 50,
   "id": "9f838e17-d6d4-4782-8ddf-1ddac095110d",
   "metadata": {},
   "outputs": [
    {
     "data": {
      "text/html": [
       "<div>\n",
       "<style scoped>\n",
       "    .dataframe tbody tr th:only-of-type {\n",
       "        vertical-align: middle;\n",
       "    }\n",
       "\n",
       "    .dataframe tbody tr th {\n",
       "        vertical-align: top;\n",
       "    }\n",
       "\n",
       "    .dataframe thead th {\n",
       "        text-align: right;\n",
       "    }\n",
       "</style>\n",
       "<table border=\"1\" class=\"dataframe\">\n",
       "  <thead>\n",
       "    <tr style=\"text-align: right;\">\n",
       "      <th>gender_comb</th>\n",
       "      <th>PrimaryColor</th>\n",
       "      <th>Men</th>\n",
       "      <th>Unisex</th>\n",
       "      <th>Women</th>\n",
       "    </tr>\n",
       "  </thead>\n",
       "  <tbody>\n",
       "    <tr>\n",
       "      <th>2</th>\n",
       "      <td>Blue</td>\n",
       "      <td>2028</td>\n",
       "      <td>211</td>\n",
       "      <td>1204</td>\n",
       "    </tr>\n",
       "  </tbody>\n",
       "</table>\n",
       "</div>"
      ],
      "text/plain": [
       "gender_comb PrimaryColor   Men  Unisex  Women\n",
       "2                   Blue  2028     211   1204"
      ]
     },
     "execution_count": 50,
     "metadata": {},
     "output_type": "execute_result"
    }
   ],
   "source": [
    "x[x.Men == x.Men.max()]"
   ]
  },
  {
   "cell_type": "code",
   "execution_count": 51,
   "id": "235f88e3-a2a4-4dd8-8aa8-fedf94efbc4a",
   "metadata": {},
   "outputs": [
    {
     "data": {
      "text/plain": [
       "2    Blue\n",
       "Name: PrimaryColor, dtype: object"
      ]
     },
     "execution_count": 51,
     "metadata": {},
     "output_type": "execute_result"
    }
   ],
   "source": [
    "x[x.Men == x.Men.max()].loc[:,'PrimaryColor']"
   ]
  },
  {
   "cell_type": "code",
   "execution_count": 52,
   "id": "507f207f-9c6f-46e9-832a-08f547eeb4f1",
   "metadata": {},
   "outputs": [
    {
     "data": {
      "text/plain": [
       "2    Blue\n",
       "Name: PrimaryColor, dtype: object"
      ]
     },
     "execution_count": 52,
     "metadata": {},
     "output_type": "execute_result"
    }
   ],
   "source": [
    "x[x.Women == x.Women.max()].loc[:,'PrimaryColor']"
   ]
  },
  {
   "cell_type": "code",
   "execution_count": 53,
   "id": "313fe3dd-18bd-4656-b686-e3f4621b284e",
   "metadata": {},
   "outputs": [
    {
     "data": {
      "text/plain": [
       "2    Blue\n",
       "Name: PrimaryColor, dtype: object"
      ]
     },
     "execution_count": 53,
     "metadata": {},
     "output_type": "execute_result"
    }
   ],
   "source": [
    "x[x.Unisex == x.Unisex.max()].loc[:,'PrimaryColor']"
   ]
  },
  {
   "cell_type": "code",
   "execution_count": 54,
   "id": "62709b48-5dea-4fad-a177-d4286d5abd82",
   "metadata": {},
   "outputs": [
    {
     "data": {
      "text/plain": [
       "gender_comb\n",
       "Men       4.981198\n",
       "Unisex    4.431118\n",
       "Women     4.951671\n",
       "Name: NumImages, dtype: float64"
      ]
     },
     "execution_count": 54,
     "metadata": {},
     "output_type": "execute_result"
    }
   ],
   "source": [
    "df.groupby('gender_comb')['NumImages'].mean()"
   ]
  },
  {
   "cell_type": "code",
   "execution_count": 55,
   "id": "add1788a-3b2c-4bae-a505-97fd095c1e54",
   "metadata": {},
   "outputs": [
    {
     "data": {
      "text/plain": [
       "gender_comb\n",
       "Men       1434.021613\n",
       "Unisex    2120.924635\n",
       "Women     1323.562702\n",
       "Name: Price, dtype: float64"
      ]
     },
     "execution_count": 55,
     "metadata": {},
     "output_type": "execute_result"
    }
   ],
   "source": [
    "df.groupby('gender_comb')['Price'].mean()"
   ]
  },
  {
   "cell_type": "code",
   "execution_count": null,
   "id": "d9dfe493-edc6-4ecd-890e-0a5b831e3d54",
   "metadata": {},
   "outputs": [],
   "source": []
  }
 ],
 "metadata": {
  "kernelspec": {
   "display_name": "Python 3",
   "language": "python",
   "name": "python3"
  },
  "language_info": {
   "codemirror_mode": {
    "name": "ipython",
    "version": 3
   },
   "file_extension": ".py",
   "mimetype": "text/x-python",
   "name": "python",
   "nbconvert_exporter": "python",
   "pygments_lexer": "ipython3",
   "version": "3.8.8"
  }
 },
 "nbformat": 4,
 "nbformat_minor": 5
}
